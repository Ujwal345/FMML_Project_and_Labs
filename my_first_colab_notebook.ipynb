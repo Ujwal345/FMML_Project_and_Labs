{
  "cells": [
    {
      "cell_type": "markdown",
      "metadata": {
        "id": "view-in-github",
        "colab_type": "text"
      },
      "source": [
        "<a href=\"https://colab.research.google.com/github/Ujwal345/FMML_Project_and_Labs/blob/main/my_first_colab_notebook.ipynb\" target=\"_parent\"><img src=\"https://colab.research.google.com/assets/colab-badge.svg\" alt=\"Open In Colab\"/></a>"
      ]
    },
    {
      "cell_type": "code",
      "execution_count": null,
      "metadata": {
        "colab": {
          "base_uri": "https://localhost:8080/",
          "height": 122
        },
        "id": "_FEC6Op3cNS7",
        "outputId": "1fc75925-6d6c-4284-c2fa-b7bbf0aead05"
      },
      "outputs": [
        {
          "data": {
            "application/vnd.google.colaboratory.intrinsic+json": {
              "type": "string"
            },
            "text/plain": [
              "'\\nFor *list its {append, insert, remove, sort}\\n*String {upper, lover, replace, split}\\n*Dictionaries {get, keys, values, items}\\n*Tuples {index, count, len}\\n'"
            ]
          },
          "execution_count": 17,
          "metadata": {},
          "output_type": "execute_result"
        }
      ],
      "source": [
        "#QUESTION 0\n",
        "'''\n",
        "For *list its {append, insert, remove, sort}\n",
        "*String {upper, lover, replace, split}\n",
        "*Dictionaries {get, keys, values, items}\n",
        "*Tuples {index, count, len}\n",
        "'''"
      ]
    },
    {
      "cell_type": "code",
      "execution_count": null,
      "metadata": {
        "colab": {
          "base_uri": "https://localhost:8080/"
        },
        "id": "Newo4bSQcWoC",
        "outputId": "72309235-a17b-4da1-82c2-f1fa3a50e52a"
      },
      "outputs": [
        {
          "name": "stdout",
          "output_type": "stream",
          "text": [
            "olleHWorld\n"
          ]
        }
      ],
      "source": [
        "#QUETION 01\n",
        "def reverse_and_concatenate(A, B):\n",
        "    reversed_A = A[::-1]\n",
        "    result = reversed_A + B\n",
        "    return result\n",
        "\n",
        "string_A = \"Hello\"\n",
        "string_B = \"World\"\n",
        "result = reverse_and_concatenate(string_A, string_B)\n",
        "print(result)"
      ]
    },
    {
      "cell_type": "code",
      "execution_count": null,
      "metadata": {
        "colab": {
          "base_uri": "https://localhost:8080/"
        },
        "id": "mtHhqTtKcpYx",
        "outputId": "3434a075-01a1-4944-95b8-9395ac32bcd1"
      },
      "outputs": [
        {
          "name": "stdout",
          "output_type": "stream",
          "text": [
            "The female worker who worked the most hours is Penny with 920 hours. She should be paid $18400.\n"
          ]
        }
      ],
      "source": [
        "#Question 02\n",
        "def fin\n",
        "d_highest_working_female(work_hours, hourly_rate=20):\n",
        "    max_hours = 0\n",
        "    female_worker = None\n",
        "\n",
        "    for name, hours, gender in work_hours:\n",
        "        if gender == 'F' and hours > max_hours:\n",
        "            max_hours = hours\n",
        "            female_worker = name\n",
        "\n",
        "    if female_worker:\n",
        "        pay = max_hours * hourly_rate\n",
        "        return f\"The female worker who worked the most hours is {female_worker} with {max_hours} hours. She should be paid ${pay}.\"\n",
        "    else:\n",
        "        return \"No female workers found.\"\n",
        "\n",
        "work_hours = [('Abby', 100, 'F'), ('Billy', 400, 'M'), ('Cassie', 800, 'F'), ('Maggi', 600, 'F'), ('Alex', 500, 'M'), ('Raj', 225, 'M'), ('Penny', 920, 'F'), ('Ben', 300, 'M')]\n",
        "\n",
        "result = find_highest_working_female(work_hours)\n",
        "print(result)"
      ]
    },
    {
      "cell_type": "code",
      "source": [
        "from google.colab import drive\n",
        "drive.mount('/content/drive')"
      ],
      "metadata": {
        "id": "Km1aRmtl4_1l"
      },
      "execution_count": null,
      "outputs": []
    },
    {
      "cell_type": "code",
      "execution_count": null,
      "metadata": {
        "colab": {
          "base_uri": "https://localhost:8080/"
        },
        "id": "TlzH5ySlc2Pv",
        "outputId": "5b0c1f46-c1dd-49bd-e05f-5d9782e7f05c"
      },
      "outputs": [
        {
          "name": "stdout",
          "output_type": "stream",
          "text": [
            "[[1 1 1 1]\n",
            " [2 2 2 2]\n",
            " [1 1 1 1]\n",
            " [2 2 2 2]]\n"
          ]
        }
      ],
      "source": [
        "#Quetion 03 A\n",
        "import numpy as np\n",
        "\n",
        "base_matrix = np.array([[1, 1], [2, 2]])\n",
        "\n",
        "matrix = np.tile(base_matrix, (2, 2))\n",
        "\n",
        "print(matrix)"
      ]
    },
    {
      "cell_type": "code",
      "execution_count": null,
      "metadata": {
        "colab": {
          "base_uri": "https://localhost:8080/"
        },
        "id": "dWwYGhMnpCqV",
        "outputId": "7d09cf8f-532b-417d-9902-8f299520fc05"
      },
      "outputs": [
        {
          "name": "stdout",
          "output_type": "stream",
          "text": [
            "Dot Product Result:\n",
            "[[19 22]\n",
            " [43 50]]\n"
          ]
        }
      ],
      "source": [
        "#B\n",
        "import numpy as np\n",
        "\n",
        "matrix1 = np.array([[1, 2], [5, 6]])\n",
        "matrix2 = np.array([[5, 6], [7, 8]])\n",
        "\n",
        "if matrix1.shape[1] == matrix2.shape[0]:\n",
        "    dot_product = np.dot(matrix1, matrix2)\n",
        "    print(\"Dot Product Result:\")\n",
        "    prasint(dot_product)\n",
        "else:\n",
        "    print(\"Matrix dimensions are not compatible for dot product.\")"
      ]
    },
    {
      "cell_type": "code",
      "source": [
        "from google.colab import drive\n",
        "drive.mount('/content/drive')\n",
        "import os\n",
        "os.chdir(\"/content/drive/MyDrive/Ujwal\")\n",
        "import matplotlib.pyplot as plt\n",
        "img = plt.imread('Ujwal.jpg')\n",
        "plt.imshow(img)\n",
        "plt.show()"
      ],
      "metadata": {
        "id": "-SSFaiuQ3-kZ"
      },
      "execution_count": null,
      "outputs": []
    }
  ],
  "metadata": {
    "colab": {
      "provenance": [],
      "mount_file_id": "1WbOQ9eA6VyFCdNG_F159lvzl66yuUEyq",
      "authorship_tag": "ABX9TyO6pYkn2rpv9bDuCDuCe5aS",
      "include_colab_link": true
    },
    "kernelspec": {
      "display_name": "Python 3",
      "name": "python3"
    },
    "language_info": {
      "name": "python"
    }
  },
  "nbformat": 4,
  "nbformat_minor": 0
}